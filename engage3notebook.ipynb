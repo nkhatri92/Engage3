{
 "cells": [
  {
   "cell_type": "markdown",
   "metadata": {},
   "source": [
    "# ETL Pipeline\n",
    "\n",
    "I used a cloud based solution (AWS) to do the ETL work. \n",
    "\n",
    "Step 1: Uploaded the file to S3\n",
    "\n",
    "Step 2: Create Staging tables in Redshift\n",
    "\n",
    "Step 3: Use COPY command available for redshift to use MPP capability of redshift to copy data from S3 to Staging tables\n",
    "\n",
    "Step 4: Apply Transformations in the staging area by loading data in pandas dataframe\n",
    "\n",
    "Step 5: Created ER and Tables in Redshift \n",
    "\n",
    "Step 6: Loaded Data in the new Tables\n",
    "\n",
    "Finally used SQL to answer questions.\n",
    "\n"
   ]
  },
  {
   "cell_type": "markdown",
   "metadata": {},
   "source": [
    "In Redshift the following 3 tables have been created.\n",
    "\n",
    "Table 1: grocery_item\n",
    "         1. upc\n",
    "         2. price_group\n",
    "Table 2: grocery_size\n",
    "         1. upc\n",
    "         2. size\n",
    "Table 3: grocery_desc\n",
    "         1. upc\n",
    "         2. item_description\n",
    "         3. category_level_01\n",
    "         4. category_level_02\n",
    "         5. category_level_03\n",
    "         6. category_level_04\n",
    "         7. in_service_date"
   ]
  },
  {
   "cell_type": "markdown",
   "metadata": {},
   "source": [
    "## Import libraries"
   ]
  },
  {
   "cell_type": "code",
   "execution_count": 2,
   "metadata": {},
   "outputs": [],
   "source": [
    "import pandas as pd\n",
    "import re\n",
    "import pandas.io.sql as psql\n",
    "from pandas.io.sql import read_sql, to_sql\n",
    "import psycopg2\n",
    "import s3fs\n",
    "import sqlalchemy as sa "
   ]
  },
  {
   "cell_type": "markdown",
   "metadata": {},
   "source": [
    "## Read csv file from local directory"
   ]
  },
  {
   "cell_type": "code",
   "execution_count": 3,
   "metadata": {},
   "outputs": [
    {
     "data": {
      "text/html": [
       "<div>\n",
       "<style scoped>\n",
       "    .dataframe tbody tr th:only-of-type {\n",
       "        vertical-align: middle;\n",
       "    }\n",
       "\n",
       "    .dataframe tbody tr th {\n",
       "        vertical-align: top;\n",
       "    }\n",
       "\n",
       "    .dataframe thead th {\n",
       "        text-align: right;\n",
       "    }\n",
       "</style>\n",
       "<table border=\"1\" class=\"dataframe\">\n",
       "  <thead>\n",
       "    <tr style=\"text-align: right;\">\n",
       "      <th></th>\n",
       "      <th>PRICE_GROUP</th>\n",
       "      <th>UPC</th>\n",
       "      <th>ITEM_DESCRIPTION</th>\n",
       "      <th>SIZE</th>\n",
       "      <th>CATEGORY_LEVEL_01</th>\n",
       "      <th>CATEGORY_LEVEL_02</th>\n",
       "      <th>CATEGORY_LEVEL_03</th>\n",
       "      <th>CATEGORY_LEVEL_04</th>\n",
       "      <th>IN_SERVICE_DATE</th>\n",
       "    </tr>\n",
       "  </thead>\n",
       "  <tbody>\n",
       "    <tr>\n",
       "      <td>0</td>\n",
       "      <td>50089</td>\n",
       "      <td>1329</td>\n",
       "      <td>PRIVATE LABEL PURIFIED WATER 35PK</td>\n",
       "      <td>35/16.9 FO</td>\n",
       "      <td>GROCERY</td>\n",
       "      <td>GROCERY</td>\n",
       "      <td>GROC-ALL OTHER</td>\n",
       "      <td>WATER</td>\n",
       "      <td>2/15/2016</td>\n",
       "    </tr>\n",
       "    <tr>\n",
       "      <td>1</td>\n",
       "      <td>1500</td>\n",
       "      <td>2591</td>\n",
       "      <td>PRIVATE LABEL PURIFIED WATER 24PK</td>\n",
       "      <td>24/16.9 FO</td>\n",
       "      <td>GROCERY</td>\n",
       "      <td>GROCERY</td>\n",
       "      <td>GROC-ALL OTHER</td>\n",
       "      <td>WATER</td>\n",
       "      <td>2/15/2016</td>\n",
       "    </tr>\n",
       "  </tbody>\n",
       "</table>\n",
       "</div>"
      ],
      "text/plain": [
       "  PRICE_GROUP   UPC                          ITEM_DESCRIPTION        SIZE  \\\n",
       "0       50089  1329  PRIVATE LABEL PURIFIED WATER 35PK         35/16.9 FO   \n",
       "1        1500  2591  PRIVATE LABEL PURIFIED WATER 24PK         24/16.9 FO   \n",
       "\n",
       "  CATEGORY_LEVEL_01 CATEGORY_LEVEL_02 CATEGORY_LEVEL_03  \\\n",
       "0           GROCERY   GROCERY           GROC-ALL OTHER    \n",
       "1           GROCERY   GROCERY           GROC-ALL OTHER    \n",
       "\n",
       "                CATEGORY_LEVEL_04 IN_SERVICE_DATE  \n",
       "0  WATER                                2/15/2016  \n",
       "1  WATER                                2/15/2016  "
      ]
     },
     "execution_count": 3,
     "metadata": {},
     "output_type": "execute_result"
    }
   ],
   "source": [
    "df = pd.read_csv('item_list.csv')\n",
    "df.head(2)\n"
   ]
  },
  {
   "cell_type": "markdown",
   "metadata": {},
   "source": [
    "## Check Issues with Data to create Data Cleaning Strategy\n",
    "\n",
    "### Summary of the issues identified with commands below\n",
    "1. Drop duplicate data\n",
    "2. Fill null values. Null values in attribute price_group are replaced with 0 to be consistent with integer datatype in tables.\n",
    "3. Replace values similar to null with string data type, for example \"(null)\"\n",
    "4. Replace mutiple values in same column cell, for example (value,value)\n",
    "\n",
    "Anamolies are found here and later implemented in transforamtion stage of ETL\n"
   ]
  },
  {
   "cell_type": "code",
   "execution_count": 6,
   "metadata": {},
   "outputs": [
    {
     "name": "stdout",
     "output_type": "stream",
     "text": [
      "<class 'pandas.core.frame.DataFrame'>\n",
      "RangeIndex: 10168 entries, 0 to 10167\n",
      "Data columns (total 9 columns):\n",
      "PRICE_GROUP          10168 non-null object\n",
      "UPC                  10168 non-null object\n",
      "ITEM_DESCRIPTION     10168 non-null object\n",
      "SIZE                 10168 non-null object\n",
      "CATEGORY_LEVEL_01    10168 non-null object\n",
      "CATEGORY_LEVEL_02    10168 non-null object\n",
      "CATEGORY_LEVEL_03    10168 non-null object\n",
      "CATEGORY_LEVEL_04    10168 non-null object\n",
      "IN_SERVICE_DATE      10167 non-null object\n",
      "dtypes: object(9)\n",
      "memory usage: 715.1+ KB\n",
      "10106\n"
     ]
    }
   ],
   "source": [
    "df.info()\n",
    "print(len(df['UPC'].unique().tolist()))\n"
   ]
  },
  {
   "cell_type": "code",
   "execution_count": 8,
   "metadata": {},
   "outputs": [
    {
     "name": "stdout",
     "output_type": "stream",
     "text": [
      "     PRICE_GROUP         UPC                          ITEM_DESCRIPTION  \\\n",
      "1319       39518  1111038127  PRIVATE LABEL OIL FREE LOTION SPF30        \n",
      "1320       39518  1111038127  PRIVATE LABEL OIL FREE LOTION SPF30        \n",
      "1342       39518  1111038461  PRIVATE LABEL SPRT SNSCRN LTN SPF30        \n",
      "1343       39518  1111038461  PRIVATE LABEL SPRT SNSCRN LTN SPF30        \n",
      "4088       43645  1111083908  PRIVATE LABEL CHILI NO BEANS               \n",
      "...          ...         ...                                       ...   \n",
      "9001       39518  4126037914  PRIVATE LABEL SUNSCREEN LTN SPF50          \n",
      "9008       39518  4126037930      PRIVATE LABEL KD TRGR SPF50            \n",
      "9009       39518  4126037930      PRIVATE LABEL KD TRGR SPF50            \n",
      "9096       39518  4126038475  PRIVATE LABEL SUNSCREEN LTN SPF50          \n",
      "9097       39518  4126038475  PRIVATE LABEL SUNSCREEN LTN SPF50          \n",
      "\n",
      "            SIZE CATEGORY_LEVEL_01 CATEGORY_LEVEL_02 CATEGORY_LEVEL_03  \\\n",
      "1319        8 FO           DRUG/GM   HBC               BEAUTY            \n",
      "1320        8 FO           DRUG/GM   HBC               BEAUTY            \n",
      "1342        8 FO           DRUG/GM   HBC               BEAUTY            \n",
      "1343        8 FO           DRUG/GM   HBC               BEAUTY            \n",
      "4088       15 OZ           GROCERY   GROCERY           GROC-ALL OTHER    \n",
      "...          ...               ...               ...               ...   \n",
      "9001        8 FO           DRUG/GM   HBC               BEAUTY            \n",
      "9008        8 FO           DRUG/GM   HBC               BEAUTY            \n",
      "9009        8 FO           DRUG/GM   HBC               BEAUTY            \n",
      "9096        8 FO           DRUG/GM   HBC               BEAUTY            \n",
      "9097        8 FO           DRUG/GM   HBC               BEAUTY            \n",
      "\n",
      "                   CATEGORY_LEVEL_04 IN_SERVICE_DATE  \n",
      "1319  SUNTAN                               8/29/2015  \n",
      "1320  SUNTAN                               8/29/2015  \n",
      "1342  SUNTAN                               8/29/2015  \n",
      "1343  SUNTAN                               8/29/2015  \n",
      "4088  MEAT - SHELF STABLE                  2/15/2016  \n",
      "...                              ...             ...  \n",
      "9001  SUNTAN                               8/29/2015  \n",
      "9008  SUNTAN                               8/29/2015  \n",
      "9009  SUNTAN                               8/29/2015  \n",
      "9096  SUNTAN                               8/29/2015  \n",
      "9097  SUNTAN                               8/29/2015  \n",
      "\n",
      "[62 rows x 9 columns]\n",
      "Duplicate Rows except first occurrence based on all columns are :\n"
     ]
    }
   ],
   "source": [
    "duplicateRowsDFF = df[df.duplicated()]\n",
    "print(duplicateRowsDFF)\n",
    "print(\"Duplicate Rows except first occurrence based on all columns are :\")\n"
   ]
  },
  {
   "cell_type": "code",
   "execution_count": 3,
   "metadata": {
    "scrolled": false
   },
   "outputs": [
    {
     "name": "stdout",
     "output_type": "stream",
     "text": [
      "Empty DataFrame\n",
      "Columns: [PRICE_GROUP, UPC, ITEM_DESCRIPTION, SIZE, CATEGORY_LEVEL_01, CATEGORY_LEVEL_02, CATEGORY_LEVEL_03, CATEGORY_LEVEL_04, IN_SERVICE_DATE]\n",
      "Index: []\n"
     ]
    }
   ],
   "source": [
    "df = df.drop_duplicates()\n",
    "df_check = df[df.duplicated()]\n",
    "print(df_check)"
   ]
  },
  {
   "cell_type": "code",
   "execution_count": 4,
   "metadata": {},
   "outputs": [
    {
     "data": {
      "text/html": [
       "<div>\n",
       "<style scoped>\n",
       "    .dataframe tbody tr th:only-of-type {\n",
       "        vertical-align: middle;\n",
       "    }\n",
       "\n",
       "    .dataframe tbody tr th {\n",
       "        vertical-align: top;\n",
       "    }\n",
       "\n",
       "    .dataframe thead th {\n",
       "        text-align: right;\n",
       "    }\n",
       "</style>\n",
       "<table border=\"1\" class=\"dataframe\">\n",
       "  <thead>\n",
       "    <tr style=\"text-align: right;\">\n",
       "      <th></th>\n",
       "      <th>PRICE_GROUP</th>\n",
       "      <th>UPC</th>\n",
       "      <th>ITEM_DESCRIPTION</th>\n",
       "      <th>SIZE</th>\n",
       "      <th>CATEGORY_LEVEL_01</th>\n",
       "      <th>CATEGORY_LEVEL_02</th>\n",
       "      <th>CATEGORY_LEVEL_03</th>\n",
       "      <th>CATEGORY_LEVEL_04</th>\n",
       "      <th>IN_SERVICE_DATE</th>\n",
       "    </tr>\n",
       "  </thead>\n",
       "  <tbody>\n",
       "  </tbody>\n",
       "</table>\n",
       "</div>"
      ],
      "text/plain": [
       "Empty DataFrame\n",
       "Columns: [PRICE_GROUP, UPC, ITEM_DESCRIPTION, SIZE, CATEGORY_LEVEL_01, CATEGORY_LEVEL_02, CATEGORY_LEVEL_03, CATEGORY_LEVEL_04, IN_SERVICE_DATE]\n",
       "Index: []"
      ]
     },
     "metadata": {},
     "output_type": "display_data"
    },
    {
     "data": {
      "text/html": [
       "<div>\n",
       "<style scoped>\n",
       "    .dataframe tbody tr th:only-of-type {\n",
       "        vertical-align: middle;\n",
       "    }\n",
       "\n",
       "    .dataframe tbody tr th {\n",
       "        vertical-align: top;\n",
       "    }\n",
       "\n",
       "    .dataframe thead th {\n",
       "        text-align: right;\n",
       "    }\n",
       "</style>\n",
       "<table border=\"1\" class=\"dataframe\">\n",
       "  <thead>\n",
       "    <tr style=\"text-align: right;\">\n",
       "      <th></th>\n",
       "      <th>PRICE_GROUP</th>\n",
       "      <th>UPC</th>\n",
       "      <th>ITEM_DESCRIPTION</th>\n",
       "      <th>SIZE</th>\n",
       "      <th>CATEGORY_LEVEL_01</th>\n",
       "      <th>CATEGORY_LEVEL_02</th>\n",
       "      <th>CATEGORY_LEVEL_03</th>\n",
       "      <th>CATEGORY_LEVEL_04</th>\n",
       "      <th>IN_SERVICE_DATE</th>\n",
       "    </tr>\n",
       "  </thead>\n",
       "  <tbody>\n",
       "  </tbody>\n",
       "</table>\n",
       "</div>"
      ],
      "text/plain": [
       "Empty DataFrame\n",
       "Columns: [PRICE_GROUP, UPC, ITEM_DESCRIPTION, SIZE, CATEGORY_LEVEL_01, CATEGORY_LEVEL_02, CATEGORY_LEVEL_03, CATEGORY_LEVEL_04, IN_SERVICE_DATE]\n",
       "Index: []"
      ]
     },
     "metadata": {},
     "output_type": "display_data"
    }
   ],
   "source": [
    "df[\"PRICE_GROUP\"].fillna(\"(null)\", inplace = True)\n",
    "df['PRICE_GROUP'] = df['PRICE_GROUP'].str.replace(r'((,) [0-9]+)','')\n",
    "df['UPC'] = df['UPC'].str.replace(r'((,) [0-9]+)','')\n",
    "display(df[df['PRICE_GROUP'].str.contains(',')])\n",
    "display(df[df['UPC'].str.contains(',')])\n"
   ]
  },
  {
   "cell_type": "code",
   "execution_count": 5,
   "metadata": {},
   "outputs": [
    {
     "name": "stdout",
     "output_type": "stream",
     "text": [
      "PRICE_GROUP          0\n",
      "UPC                  0\n",
      "ITEM_DESCRIPTION     0\n",
      "SIZE                 0\n",
      "CATEGORY_LEVEL_01    0\n",
      "CATEGORY_LEVEL_02    0\n",
      "CATEGORY_LEVEL_03    0\n",
      "CATEGORY_LEVEL_04    0\n",
      "IN_SERVICE_DATE      1\n",
      "dtype: int64\n"
     ]
    }
   ],
   "source": [
    "print(df.isnull().sum())\n",
    "# we still have one null value, will be dealt in transformation"
   ]
  },
  {
   "cell_type": "markdown",
   "metadata": {},
   "source": [
    "## Other  Anomalies: They do not affect the queries asked later therefore have not been implemented\n",
    "\n",
    "All other columns are similar except item description which points to the same product. Most likely the same product having two UPC because of misspelled description. \n",
    "example 1\n",
    "UPC:834674001  ITEM_DESCRIPTION: SLMFST 321 MLK CH SHK 4PK   \n",
    "UPC:834612204  ITEM_DESCRIPTION: SLMFST 321 MLK CHO SHK4PK    \n",
    "\n",
    "example 2 \n",
    "UPC: 1111000892 ITEM_DESCRIPTION: HAWAI HOT DG BNS 8CT      \n",
    "UPC: 1111000899 ITEM_DESCRIPTION: HAWAI HT DOG BNS 8CT   \n",
    "\n",
    "WHL MILK                   WHOLE MILK                 1111042851    1/2 GAL 1111042850    1/2 GAL\n",
    "\n",
    "Other anomaly that can be seen below is because of white spaces. Again the same product but different UPC\n",
    "ITEM_DESCRIPTION: HAMBURGER BUNS 8CT\n",
    "ITEM_DESCRIPTION:  HAMBURGER BUNS 8CT\n",
    "\n",
    "Inconsistent spacing\n",
    "1%LF MILK                 1% LF MILK                 1111041754    1/2 GAL 1111042855    1/2 GAL\n",
    "\n"
   ]
  },
  {
   "cell_type": "markdown",
   "metadata": {},
   "source": [
    "# Step 1: Copy inital data file into S3\n",
    "\n",
    "This step was done through the GUI of S3\n"
   ]
  },
  {
   "cell_type": "markdown",
   "metadata": {},
   "source": [
    "# Step 2: Create staging tables in redshift"
   ]
  },
  {
   "cell_type": "code",
   "execution_count": 9,
   "metadata": {},
   "outputs": [],
   "source": [
    "#details hidden\n",
    "conn=psycopg2.connect(dbname='dev', host='',port= '5439', user='nikhil', password='')\n",
    "cur = conn.cursor()\n"
   ]
  },
  {
   "cell_type": "code",
   "execution_count": 29,
   "metadata": {},
   "outputs": [],
   "source": [
    "create_staging_grocery_table = \"\"\"CREATE TABLE IF NOT EXISTS staging_grocery(\n",
    "    price_group         varchar,\n",
    "    upc                 varchar,\n",
    "    item_description    varchar,\n",
    "    size                varchar,\n",
    "    category_level_01   varchar,\n",
    "    category_level_02   varchar,\n",
    "    category_level_03   varchar,\n",
    "    category_level_04   varchar, \n",
    "    in_service_date     varchar)\n",
    "\"\"\""
   ]
  },
  {
   "cell_type": "markdown",
   "metadata": {},
   "source": [
    "# Step 3: Copy data into staging tables"
   ]
  },
  {
   "cell_type": "code",
   "execution_count": 30,
   "metadata": {},
   "outputs": [],
   "source": [
    "copy_to_staging_grocery = \"\"\"copy staging_grocery\n",
    "from 's3://engage3/item_list_new.csv' \n",
    "iam_role 'arn:aws:iam::525333178651:role/new_redshift'\n",
    "delimiter ',' \n",
    "IGNOREHEADER 1 \n",
    "emptyasnull \n",
    "blanksasnull \n",
    "removequotes \n",
    "escape ;\"\"\""
   ]
  },
  {
   "cell_type": "code",
   "execution_count": 31,
   "metadata": {},
   "outputs": [],
   "source": [
    "cur.execute(create_staging_grocery_table)\n",
    "cur.execute(copy_to_staging_grocery)\n",
    "conn.commit()"
   ]
  },
  {
   "cell_type": "markdown",
   "metadata": {},
   "source": [
    "# Step 4: Load data into dataframe for transformation"
   ]
  },
  {
   "cell_type": "code",
   "execution_count": 33,
   "metadata": {},
   "outputs": [],
   "source": [
    "dataframe = psql.read_sql(\"SELECT * FROM staging_grocery\", conn)"
   ]
  },
  {
   "cell_type": "code",
   "execution_count": 34,
   "metadata": {},
   "outputs": [
    {
     "data": {
      "text/html": [
       "<div>\n",
       "<style scoped>\n",
       "    .dataframe tbody tr th:only-of-type {\n",
       "        vertical-align: middle;\n",
       "    }\n",
       "\n",
       "    .dataframe tbody tr th {\n",
       "        vertical-align: top;\n",
       "    }\n",
       "\n",
       "    .dataframe thead th {\n",
       "        text-align: right;\n",
       "    }\n",
       "</style>\n",
       "<table border=\"1\" class=\"dataframe\">\n",
       "  <thead>\n",
       "    <tr style=\"text-align: right;\">\n",
       "      <th></th>\n",
       "      <th>price_group</th>\n",
       "      <th>upc</th>\n",
       "      <th>item_description</th>\n",
       "      <th>size</th>\n",
       "      <th>category_level_01</th>\n",
       "      <th>category_level_02</th>\n",
       "      <th>category_level_03</th>\n",
       "      <th>category_level_04</th>\n",
       "      <th>in_service_date</th>\n",
       "    </tr>\n",
       "  </thead>\n",
       "  <tbody>\n",
       "    <tr>\n",
       "      <td>0</td>\n",
       "      <td>1500</td>\n",
       "      <td>2591</td>\n",
       "      <td>PRIVATE LABEL PURIFIED WATER 24PK</td>\n",
       "      <td>24/16.9 FO</td>\n",
       "      <td>GROCERY</td>\n",
       "      <td>GROCERY</td>\n",
       "      <td>GROC-ALL OTHER</td>\n",
       "      <td>WATER</td>\n",
       "      <td>2/15/2016</td>\n",
       "    </tr>\n",
       "    <tr>\n",
       "      <td>1</td>\n",
       "      <td>17302</td>\n",
       "      <td>4077</td>\n",
       "      <td>CORN WHITE IN HUSK BULK</td>\n",
       "      <td>1 RW</td>\n",
       "      <td>PRODUCE</td>\n",
       "      <td>FRESH PRODUCE</td>\n",
       "      <td>VEGETABLES</td>\n",
       "      <td>CORN</td>\n",
       "      <td>5/7/2016</td>\n",
       "    </tr>\n",
       "    <tr>\n",
       "      <td>2</td>\n",
       "      <td>17302</td>\n",
       "      <td>4590</td>\n",
       "      <td>CORN BICOLOR IN HUSK BULK</td>\n",
       "      <td>1 EA</td>\n",
       "      <td>PRODUCE</td>\n",
       "      <td>FRESH PRODUCE</td>\n",
       "      <td>VEGETABLES</td>\n",
       "      <td>CORN</td>\n",
       "      <td>5/7/2016</td>\n",
       "    </tr>\n",
       "    <tr>\n",
       "      <td>3</td>\n",
       "      <td>30517</td>\n",
       "      <td>64895</td>\n",
       "      <td>PRIVATE LABEL PURIFIED WATER 32PK</td>\n",
       "      <td>32/16.9 FO</td>\n",
       "      <td>GROCERY</td>\n",
       "      <td>GROCERY</td>\n",
       "      <td>GROC-ALL OTHER</td>\n",
       "      <td>WATER</td>\n",
       "      <td>2/15/2016</td>\n",
       "    </tr>\n",
       "    <tr>\n",
       "      <td>4</td>\n",
       "      <td>15168</td>\n",
       "      <td>100000839</td>\n",
       "      <td>PRIVATE LABEL APPLE CIDER VINEGAR</td>\n",
       "      <td>128 FO</td>\n",
       "      <td>GROCERY</td>\n",
       "      <td>GROCERY</td>\n",
       "      <td>GROC-ALL OTHER</td>\n",
       "      <td>VINEGAR&amp;COOKING WINES</td>\n",
       "      <td>2/15/2016</td>\n",
       "    </tr>\n",
       "  </tbody>\n",
       "</table>\n",
       "</div>"
      ],
      "text/plain": [
       "  price_group        upc                          item_description  \\\n",
       "0        1500       2591  PRIVATE LABEL PURIFIED WATER 24PK          \n",
       "1       17302       4077            CORN WHITE IN HUSK BULK          \n",
       "2       17302       4590            CORN BICOLOR IN HUSK BULK        \n",
       "3       30517      64895  PRIVATE LABEL PURIFIED WATER 32PK          \n",
       "4       15168  100000839  PRIVATE LABEL APPLE CIDER VINEGAR          \n",
       "\n",
       "         size category_level_01 category_level_02 category_level_03  \\\n",
       "0  24/16.9 FO           GROCERY   GROCERY           GROC-ALL OTHER    \n",
       "1        1 RW           PRODUCE   FRESH PRODUCE     VEGETABLES        \n",
       "2        1 EA           PRODUCE   FRESH PRODUCE     VEGETABLES        \n",
       "3  32/16.9 FO           GROCERY   GROCERY           GROC-ALL OTHER    \n",
       "4      128 FO           GROCERY   GROCERY           GROC-ALL OTHER    \n",
       "\n",
       "                category_level_04 in_service_date  \n",
       "0  WATER                                2/15/2016  \n",
       "1  CORN                                  5/7/2016  \n",
       "2  CORN                                  5/7/2016  \n",
       "3  WATER                                2/15/2016  \n",
       "4  VINEGAR&COOKING WINES                2/15/2016  "
      ]
     },
     "execution_count": 34,
     "metadata": {},
     "output_type": "execute_result"
    }
   ],
   "source": [
    "dataframe.head()"
   ]
  },
  {
   "cell_type": "code",
   "execution_count": 35,
   "metadata": {},
   "outputs": [],
   "source": [
    "dataframe = dataframe.drop_duplicates()"
   ]
  },
  {
   "cell_type": "code",
   "execution_count": 36,
   "metadata": {},
   "outputs": [],
   "source": [
    "dataframe['price_group'] = dataframe['price_group'].str.replace(r'((,) [0-9]+)','')\n",
    "dataframe['upc'] = dataframe['upc'].str.replace(r'((,) [0-9]+)','')\n"
   ]
  },
  {
   "cell_type": "code",
   "execution_count": 37,
   "metadata": {},
   "outputs": [
    {
     "data": {
      "text/html": [
       "<div>\n",
       "<style scoped>\n",
       "    .dataframe tbody tr th:only-of-type {\n",
       "        vertical-align: middle;\n",
       "    }\n",
       "\n",
       "    .dataframe tbody tr th {\n",
       "        vertical-align: top;\n",
       "    }\n",
       "\n",
       "    .dataframe thead th {\n",
       "        text-align: right;\n",
       "    }\n",
       "</style>\n",
       "<table border=\"1\" class=\"dataframe\">\n",
       "  <thead>\n",
       "    <tr style=\"text-align: right;\">\n",
       "      <th></th>\n",
       "      <th>price_group</th>\n",
       "      <th>upc</th>\n",
       "      <th>item_description</th>\n",
       "      <th>size</th>\n",
       "      <th>category_level_01</th>\n",
       "      <th>category_level_02</th>\n",
       "      <th>category_level_03</th>\n",
       "      <th>category_level_04</th>\n",
       "      <th>in_service_date</th>\n",
       "    </tr>\n",
       "  </thead>\n",
       "  <tbody>\n",
       "    <tr>\n",
       "      <td>0</td>\n",
       "      <td>1500</td>\n",
       "      <td>2591</td>\n",
       "      <td>PRIVATE LABEL PURIFIED WATER 24PK</td>\n",
       "      <td>24/16.9 FO</td>\n",
       "      <td>GROCERY</td>\n",
       "      <td>GROCERY</td>\n",
       "      <td>GROC-ALL OTHER</td>\n",
       "      <td>WATER</td>\n",
       "      <td>2/15/2016</td>\n",
       "    </tr>\n",
       "    <tr>\n",
       "      <td>1</td>\n",
       "      <td>17302</td>\n",
       "      <td>4077</td>\n",
       "      <td>CORN WHITE IN HUSK BULK</td>\n",
       "      <td>1 RW</td>\n",
       "      <td>PRODUCE</td>\n",
       "      <td>FRESH PRODUCE</td>\n",
       "      <td>VEGETABLES</td>\n",
       "      <td>CORN</td>\n",
       "      <td>5/7/2016</td>\n",
       "    </tr>\n",
       "    <tr>\n",
       "      <td>2</td>\n",
       "      <td>17302</td>\n",
       "      <td>4590</td>\n",
       "      <td>CORN BICOLOR IN HUSK BULK</td>\n",
       "      <td>1 EA</td>\n",
       "      <td>PRODUCE</td>\n",
       "      <td>FRESH PRODUCE</td>\n",
       "      <td>VEGETABLES</td>\n",
       "      <td>CORN</td>\n",
       "      <td>5/7/2016</td>\n",
       "    </tr>\n",
       "    <tr>\n",
       "      <td>3</td>\n",
       "      <td>30517</td>\n",
       "      <td>64895</td>\n",
       "      <td>PRIVATE LABEL PURIFIED WATER 32PK</td>\n",
       "      <td>32/16.9 FO</td>\n",
       "      <td>GROCERY</td>\n",
       "      <td>GROCERY</td>\n",
       "      <td>GROC-ALL OTHER</td>\n",
       "      <td>WATER</td>\n",
       "      <td>2/15/2016</td>\n",
       "    </tr>\n",
       "    <tr>\n",
       "      <td>4</td>\n",
       "      <td>15168</td>\n",
       "      <td>100000839</td>\n",
       "      <td>PRIVATE LABEL APPLE CIDER VINEGAR</td>\n",
       "      <td>128 FO</td>\n",
       "      <td>GROCERY</td>\n",
       "      <td>GROCERY</td>\n",
       "      <td>GROC-ALL OTHER</td>\n",
       "      <td>VINEGAR&amp;COOKING WINES</td>\n",
       "      <td>2/15/2016</td>\n",
       "    </tr>\n",
       "  </tbody>\n",
       "</table>\n",
       "</div>"
      ],
      "text/plain": [
       "  price_group        upc                          item_description  \\\n",
       "0        1500       2591  PRIVATE LABEL PURIFIED WATER 24PK          \n",
       "1       17302       4077            CORN WHITE IN HUSK BULK          \n",
       "2       17302       4590            CORN BICOLOR IN HUSK BULK        \n",
       "3       30517      64895  PRIVATE LABEL PURIFIED WATER 32PK          \n",
       "4       15168  100000839  PRIVATE LABEL APPLE CIDER VINEGAR          \n",
       "\n",
       "         size category_level_01 category_level_02 category_level_03  \\\n",
       "0  24/16.9 FO           GROCERY   GROCERY           GROC-ALL OTHER    \n",
       "1        1 RW           PRODUCE   FRESH PRODUCE     VEGETABLES        \n",
       "2        1 EA           PRODUCE   FRESH PRODUCE     VEGETABLES        \n",
       "3  32/16.9 FO           GROCERY   GROCERY           GROC-ALL OTHER    \n",
       "4      128 FO           GROCERY   GROCERY           GROC-ALL OTHER    \n",
       "\n",
       "                category_level_04 in_service_date  \n",
       "0  WATER                                2/15/2016  \n",
       "1  CORN                                  5/7/2016  \n",
       "2  CORN                                  5/7/2016  \n",
       "3  WATER                                2/15/2016  \n",
       "4  VINEGAR&COOKING WINES                2/15/2016  "
      ]
     },
     "execution_count": 37,
     "metadata": {},
     "output_type": "execute_result"
    }
   ],
   "source": [
    "dataframe.head()"
   ]
  },
  {
   "cell_type": "code",
   "execution_count": 42,
   "metadata": {},
   "outputs": [
    {
     "name": "stdout",
     "output_type": "stream",
     "text": [
      "Empty DataFrame\n",
      "Columns: [price_group, upc, item_description, size, category_level_01, category_level_02, category_level_03, category_level_04, in_service_date]\n",
      "Index: []\n"
     ]
    }
   ],
   "source": [
    "dataframe['price_group'] = dataframe['price_group'].str.replace(r'[\\(null)]','0')\n",
    "dataframe['in_service_date'] = dataframe['in_service_date'].str.replace(r'[\\(null)]','0')\n",
    "\n",
    "dataframe['size'].fillna(value='Not Known', inplace = True)\n",
    "dataframe['price_group'].fillna(value=int(0), inplace = True)\n",
    "dataframe['upc'].fillna(value=int(0), inplace = True)\n",
    "\n",
    "dataframe.isna().values.sum()\n",
    "print(dataframe[dataframe.isnull().any(axis=1)==True])"
   ]
  },
  {
   "cell_type": "code",
   "execution_count": 44,
   "metadata": {},
   "outputs": [],
   "source": [
    "dataframe_grocery_fact =  dataframe[['upc','price_group']]\n",
    "dataframe_grocery_fact = dataframe_grocery_fact.dropna()\n",
    "\n",
    "dataframe_grocery_fact['upc'] = dataframe_grocery_fact['upc'].astype(str).astype('float64').astype('int64')\n",
    "dataframe_grocery_fact['price_group'] = dataframe_grocery_fact['price_group'].astype(str).astype('float64').astype('int64')"
   ]
  },
  {
   "cell_type": "code",
   "execution_count": 45,
   "metadata": {},
   "outputs": [],
   "source": [
    "size_list_text = dataframe['size'].tolist()\n",
    "upc_colm = dataframe_grocery_fact['upc']\n",
    "size_dataframe = pd.DataFrame(\n",
    "    {'upc': upc_colm,\n",
    "     'size': size_list_text,\n",
    "    })"
   ]
  },
  {
   "cell_type": "code",
   "execution_count": 46,
   "metadata": {},
   "outputs": [
    {
     "name": "stderr",
     "output_type": "stream",
     "text": [
      "C:\\ProgramData\\Anaconda3\\lib\\site-packages\\ipykernel_launcher.py:2: SettingWithCopyWarning: \n",
      "A value is trying to be set on a copy of a slice from a DataFrame.\n",
      "Try using .loc[row_indexer,col_indexer] = value instead\n",
      "\n",
      "See the caveats in the documentation: http://pandas.pydata.org/pandas-docs/stable/user_guide/indexing.html#returning-a-view-versus-a-copy\n",
      "  \n"
     ]
    }
   ],
   "source": [
    "dataframe_grocery_desc =  dataframe[['upc','item_description','category_level_01','category_level_02','category_level_03','category_level_04','in_service_date']]\n",
    "dataframe_grocery_desc['upc'] = dataframe_grocery_desc['upc'].astype(str).astype('float64').astype('int64')"
   ]
  },
  {
   "cell_type": "markdown",
   "metadata": {},
   "source": [
    "# Step to load data faster in final tables \n",
    "\n",
    "Using psycopg2 to load data in tables takes a lot of time.The faster technique would be to copy transformed data in S3 and then use copy commands to load data into redshift tables. "
   ]
  },
  {
   "cell_type": "code",
   "execution_count": 54,
   "metadata": {},
   "outputs": [],
   "source": [
    "engine = sa.create_engine('')\n",
    "s3 = s3fs.S3FileSystem(anon=False, key='', secret='')\n"
   ]
  },
  {
   "cell_type": "code",
   "execution_count": null,
   "metadata": {},
   "outputs": [],
   "source": [
    "filename = 'engage3/fact.csv'\n",
    "filename1 = 'engage3/fact_size.csv'\n",
    "filename2 = 'engage3/fact_desc.csv'\n",
    "\n",
    "\n",
    "with s3.open(filename2, 'w') as f2:\n",
    "    dataframe_grocery_desc.to_csv(f2, index=False, header=False)\n",
    "\n",
    "with s3.open(filename, 'w') as f:\n",
    "    dataframe_grocery_fact.to_csv(f, index=False, header=False)\n",
    "\n",
    "with s3.open(filename1, 'w') as f1:   \n",
    "    size_dataframe.to_csv(f1, index=False, header=False)"
   ]
  },
  {
   "cell_type": "markdown",
   "metadata": {},
   "source": [
    "# Step 5: Create tables in Redshift"
   ]
  },
  {
   "cell_type": "code",
   "execution_count": 48,
   "metadata": {},
   "outputs": [],
   "source": [
    "grocery_item = \"\"\"CREATE TABLE grocery_item(\n",
    "  upc int8 PRIMARY KEY NOT NULL,\n",
    "  price_group int )\"\"\""
   ]
  },
  {
   "cell_type": "code",
   "execution_count": 49,
   "metadata": {},
   "outputs": [],
   "source": [
    "grocery_size = \"\"\"CREATE TABLE grocery_size(\n",
    "  upc int8 PRIMARY KEY NOT NULL,\n",
    "  size varchar )\"\"\""
   ]
  },
  {
   "cell_type": "code",
   "execution_count": 50,
   "metadata": {},
   "outputs": [],
   "source": [
    "grocery_desc = \"\"\"CREATE TABLE grocery_desc(\n",
    "upc\tint8 NOT NULL PRIMARY KEY,\n",
    "item_description VARCHAR,\n",
    "category_level_01 VARCHAR,\n",
    "category_level_02 VARCHAR,\n",
    "category_level_03 VARCHAR,\n",
    "category_level_04 VARCHAR,\n",
    "in_service_date VARCHAR)\"\"\""
   ]
  },
  {
   "cell_type": "code",
   "execution_count": 51,
   "metadata": {},
   "outputs": [],
   "source": [
    "cur.execute(grocery_item)\n",
    "cur.execute(grocery_size)\n",
    "cur.execute(grocery_desc)\n",
    "conn.commit()"
   ]
  },
  {
   "cell_type": "markdown",
   "metadata": {},
   "source": [
    "# Step 6: Load data in tables"
   ]
  },
  {
   "cell_type": "code",
   "execution_count": 55,
   "metadata": {},
   "outputs": [
    {
     "data": {
      "text/plain": [
       "<sqlalchemy.engine.result.ResultProxy at 0x1ff8f6bb4c8>"
      ]
     },
     "execution_count": 55,
     "metadata": {},
     "output_type": "execute_result"
    }
   ],
   "source": [
    "engine.execute(\"\"\"\n",
    "    COPY grocery_size\n",
    "    from 's3://engage3/fact_size.csv'\n",
    "    iam_role 'arn:aws:iam::525333178651:role/new_redshift'\n",
    "    delimiter ',';\"\"\")"
   ]
  },
  {
   "cell_type": "code",
   "execution_count": 56,
   "metadata": {},
   "outputs": [
    {
     "data": {
      "text/plain": [
       "<sqlalchemy.engine.result.ResultProxy at 0x1ff8f6a3d88>"
      ]
     },
     "execution_count": 56,
     "metadata": {},
     "output_type": "execute_result"
    }
   ],
   "source": [
    "engine.execute(\"\"\"\n",
    "    COPY grocery_desc\n",
    "    from 's3://engage3/fact_desc.csv'\n",
    "    iam_role 'arn:aws:iam::525333178651:role/new_redshift'\n",
    "    delimiter ',';\"\"\")"
   ]
  },
  {
   "cell_type": "code",
   "execution_count": 57,
   "metadata": {},
   "outputs": [
    {
     "data": {
      "text/plain": [
       "<sqlalchemy.engine.result.ResultProxy at 0x1ff8f6bb1c8>"
      ]
     },
     "execution_count": 57,
     "metadata": {},
     "output_type": "execute_result"
    }
   ],
   "source": [
    "engine.execute(\"\"\"\n",
    "    COPY grocery_item\n",
    "    from 's3://engage3/fact.csv'\n",
    "    iam_role 'arn:aws:iam::525333178651:role/new_redshift'\n",
    "    delimiter ',';\"\"\")"
   ]
  },
  {
   "cell_type": "markdown",
   "metadata": {},
   "source": [
    "# SQL Queries"
   ]
  },
  {
   "cell_type": "code",
   "execution_count": 30,
   "metadata": {},
   "outputs": [],
   "source": [
    "q1 = \"\"\"select count(upc) as item_count, price_group from grocery_item group by(price_group) order by(item_count) desc\"\"\""
   ]
  },
  {
   "cell_type": "code",
   "execution_count": 40,
   "metadata": {},
   "outputs": [
    {
     "data": {
      "text/html": [
       "<div>\n",
       "<style scoped>\n",
       "    .dataframe tbody tr th:only-of-type {\n",
       "        vertical-align: middle;\n",
       "    }\n",
       "\n",
       "    .dataframe tbody tr th {\n",
       "        vertical-align: top;\n",
       "    }\n",
       "\n",
       "    .dataframe thead th {\n",
       "        text-align: right;\n",
       "    }\n",
       "</style>\n",
       "<table border=\"1\" class=\"dataframe\">\n",
       "  <thead>\n",
       "    <tr style=\"text-align: right;\">\n",
       "      <th></th>\n",
       "      <th>item_count</th>\n",
       "      <th>price_group</th>\n",
       "    </tr>\n",
       "  </thead>\n",
       "  <tbody>\n",
       "    <tr>\n",
       "      <td>0</td>\n",
       "      <td>1060</td>\n",
       "      <td>0</td>\n",
       "    </tr>\n",
       "    <tr>\n",
       "      <td>1</td>\n",
       "      <td>186</td>\n",
       "      <td>2204</td>\n",
       "    </tr>\n",
       "    <tr>\n",
       "      <td>2</td>\n",
       "      <td>140</td>\n",
       "      <td>2964</td>\n",
       "    </tr>\n",
       "    <tr>\n",
       "      <td>3</td>\n",
       "      <td>136</td>\n",
       "      <td>2096</td>\n",
       "    </tr>\n",
       "    <tr>\n",
       "      <td>4</td>\n",
       "      <td>99</td>\n",
       "      <td>743</td>\n",
       "    </tr>\n",
       "    <tr>\n",
       "      <td>5</td>\n",
       "      <td>88</td>\n",
       "      <td>36105</td>\n",
       "    </tr>\n",
       "    <tr>\n",
       "      <td>6</td>\n",
       "      <td>63</td>\n",
       "      <td>786</td>\n",
       "    </tr>\n",
       "    <tr>\n",
       "      <td>7</td>\n",
       "      <td>61</td>\n",
       "      <td>4871</td>\n",
       "    </tr>\n",
       "    <tr>\n",
       "      <td>8</td>\n",
       "      <td>58</td>\n",
       "      <td>23301</td>\n",
       "    </tr>\n",
       "    <tr>\n",
       "      <td>9</td>\n",
       "      <td>58</td>\n",
       "      <td>2099</td>\n",
       "    </tr>\n",
       "  </tbody>\n",
       "</table>\n",
       "</div>"
      ],
      "text/plain": [
       "   item_count  price_group\n",
       "0        1060            0\n",
       "1         186         2204\n",
       "2         140         2964\n",
       "3         136         2096\n",
       "4          99          743\n",
       "5          88        36105\n",
       "6          63          786\n",
       "7          61         4871\n",
       "8          58        23301\n",
       "9          58         2099"
      ]
     },
     "execution_count": 40,
     "metadata": {},
     "output_type": "execute_result"
    }
   ],
   "source": [
    "q1_df = pd.read_sql_query(q1, con=conn)\n",
    "q1_df.head(10)\n",
    "# price group 0 denotes that value was not known or bad data"
   ]
  },
  {
   "cell_type": "code",
   "execution_count": 32,
   "metadata": {},
   "outputs": [],
   "source": [
    "q2_1 = \"\"\"(select count(x.upc) as item_count from grocery_item as x, grocery_desc as y where x.upc = y.upc and y.category_level_01 = 'MEAT' and y.category_level_02 = 'PKG MEAT' and y.category_level_03 = 'PKG MEAT' and y.category_level_04 = 'LUNCHMEAT')\"\"\""
   ]
  },
  {
   "cell_type": "code",
   "execution_count": 43,
   "metadata": {},
   "outputs": [
    {
     "data": {
      "text/html": [
       "<div>\n",
       "<style scoped>\n",
       "    .dataframe tbody tr th:only-of-type {\n",
       "        vertical-align: middle;\n",
       "    }\n",
       "\n",
       "    .dataframe tbody tr th {\n",
       "        vertical-align: top;\n",
       "    }\n",
       "\n",
       "    .dataframe thead th {\n",
       "        text-align: right;\n",
       "    }\n",
       "</style>\n",
       "<table border=\"1\" class=\"dataframe\">\n",
       "  <thead>\n",
       "    <tr style=\"text-align: right;\">\n",
       "      <th></th>\n",
       "      <th>item_count</th>\n",
       "    </tr>\n",
       "  </thead>\n",
       "  <tbody>\n",
       "    <tr>\n",
       "      <td>0</td>\n",
       "      <td>75</td>\n",
       "    </tr>\n",
       "  </tbody>\n",
       "</table>\n",
       "</div>"
      ],
      "text/plain": [
       "   item_count\n",
       "0          75"
      ]
     },
     "execution_count": 43,
     "metadata": {},
     "output_type": "execute_result"
    }
   ],
   "source": [
    "q2_1_df = pd.read_sql_query(q2_1, con=conn)\n",
    "q2_1_df.head()"
   ]
  },
  {
   "cell_type": "code",
   "execution_count": 34,
   "metadata": {},
   "outputs": [],
   "source": [
    "q2_2 = \"\"\"(select count(x.upc) as item_count from grocery_item as x, grocery_desc as y where x.upc = y.upc and y.category_level_01 = 'DRUG/GM' and y.category_level_02 = 'HBC' and y.category_level_03 = 'HEALTH')\"\"\""
   ]
  },
  {
   "cell_type": "code",
   "execution_count": 44,
   "metadata": {},
   "outputs": [
    {
     "data": {
      "text/html": [
       "<div>\n",
       "<style scoped>\n",
       "    .dataframe tbody tr th:only-of-type {\n",
       "        vertical-align: middle;\n",
       "    }\n",
       "\n",
       "    .dataframe tbody tr th {\n",
       "        vertical-align: top;\n",
       "    }\n",
       "\n",
       "    .dataframe thead th {\n",
       "        text-align: right;\n",
       "    }\n",
       "</style>\n",
       "<table border=\"1\" class=\"dataframe\">\n",
       "  <thead>\n",
       "    <tr style=\"text-align: right;\">\n",
       "      <th></th>\n",
       "      <th>item_count</th>\n",
       "    </tr>\n",
       "  </thead>\n",
       "  <tbody>\n",
       "    <tr>\n",
       "      <td>0</td>\n",
       "      <td>528</td>\n",
       "    </tr>\n",
       "  </tbody>\n",
       "</table>\n",
       "</div>"
      ],
      "text/plain": [
       "   item_count\n",
       "0         528"
      ]
     },
     "execution_count": 44,
     "metadata": {},
     "output_type": "execute_result"
    }
   ],
   "source": [
    "q2_2_df = pd.read_sql_query(q2_2, con=conn)\n",
    "q2_2_df.head()"
   ]
  },
  {
   "cell_type": "code",
   "execution_count": 54,
   "metadata": {},
   "outputs": [],
   "source": [
    "q3 = \"\"\"select y.item_description, x.UPC from grocery_item x join grocery_desc y on x.upc = y.upc where x.price_group = 29327\"\"\""
   ]
  },
  {
   "cell_type": "code",
   "execution_count": 57,
   "metadata": {},
   "outputs": [
    {
     "data": {
      "text/html": [
       "<div>\n",
       "<style scoped>\n",
       "    .dataframe tbody tr th:only-of-type {\n",
       "        vertical-align: middle;\n",
       "    }\n",
       "\n",
       "    .dataframe tbody tr th {\n",
       "        vertical-align: top;\n",
       "    }\n",
       "\n",
       "    .dataframe thead th {\n",
       "        text-align: right;\n",
       "    }\n",
       "</style>\n",
       "<table border=\"1\" class=\"dataframe\">\n",
       "  <thead>\n",
       "    <tr style=\"text-align: right;\">\n",
       "      <th></th>\n",
       "      <th>item_description</th>\n",
       "      <th>upc</th>\n",
       "    </tr>\n",
       "  </thead>\n",
       "  <tbody>\n",
       "    <tr>\n",
       "      <td>0</td>\n",
       "      <td>SLMFST RTD CHC RYL 6PKBNS</td>\n",
       "      <td>834628711</td>\n",
       "    </tr>\n",
       "    <tr>\n",
       "      <td>1</td>\n",
       "      <td>SLMFST 321 CHOC ROYAL 4PK</td>\n",
       "      <td>834674007</td>\n",
       "    </tr>\n",
       "    <tr>\n",
       "      <td>2</td>\n",
       "      <td>SLMFST RTD MLKCHOC 6PKBNS</td>\n",
       "      <td>834628710</td>\n",
       "    </tr>\n",
       "    <tr>\n",
       "      <td>3</td>\n",
       "      <td>SLMFST CAPPCNO DLGHT 4PK</td>\n",
       "      <td>834674005</td>\n",
       "    </tr>\n",
       "    <tr>\n",
       "      <td>4</td>\n",
       "      <td>SLMFST 321 MLK CHO SHK4PK</td>\n",
       "      <td>834612204</td>\n",
       "    </tr>\n",
       "    <tr>\n",
       "      <td>5</td>\n",
       "      <td>SLMFST 321 MLK CH SHK 4PK</td>\n",
       "      <td>834674001</td>\n",
       "    </tr>\n",
       "    <tr>\n",
       "      <td>6</td>\n",
       "      <td>SLMFST 321 CHOC ROYAL 4PK</td>\n",
       "      <td>834612203</td>\n",
       "    </tr>\n",
       "    <tr>\n",
       "      <td>7</td>\n",
       "      <td>SLMFST RTD CAPPDLG 6PKBNS</td>\n",
       "      <td>834628713</td>\n",
       "    </tr>\n",
       "  </tbody>\n",
       "</table>\n",
       "</div>"
      ],
      "text/plain": [
       "                 item_description        upc\n",
       "0  SLMFST RTD CHC RYL 6PKBNS       834628711\n",
       "1  SLMFST 321 CHOC ROYAL 4PK       834674007\n",
       "2  SLMFST RTD MLKCHOC 6PKBNS       834628710\n",
       "3  SLMFST CAPPCNO DLGHT 4PK        834674005\n",
       "4  SLMFST 321 MLK CHO SHK4PK       834612204\n",
       "5  SLMFST 321 MLK CH SHK 4PK       834674001\n",
       "6  SLMFST 321 CHOC ROYAL 4PK       834612203\n",
       "7  SLMFST RTD CAPPDLG 6PKBNS       834628713"
      ]
     },
     "execution_count": 57,
     "metadata": {},
     "output_type": "execute_result"
    }
   ],
   "source": [
    "q3_df = pd.read_sql_query(q3, con=conn)\n",
    "q3_df"
   ]
  },
  {
   "cell_type": "code",
   "execution_count": null,
   "metadata": {},
   "outputs": [],
   "source": []
  }
 ],
 "metadata": {
  "kernelspec": {
   "display_name": "Python 3",
   "language": "python",
   "name": "python3"
  },
  "language_info": {
   "codemirror_mode": {
    "name": "ipython",
    "version": 3
   },
   "file_extension": ".py",
   "mimetype": "text/x-python",
   "name": "python",
   "nbconvert_exporter": "python",
   "pygments_lexer": "ipython3",
   "version": "3.7.4"
  }
 },
 "nbformat": 4,
 "nbformat_minor": 2
}
